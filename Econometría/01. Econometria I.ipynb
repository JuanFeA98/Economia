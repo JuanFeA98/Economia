{
 "cells": [
  {
   "cell_type": "markdown",
   "id": "e5436af9-0ee3-4279-88e4-9f7cef0357eb",
   "metadata": {},
   "source": [
    "<h1\n",
    "    style='text-align:center;font-weight: bolder;'\n",
    "    >\n",
    "    Econometría.\n",
    "</h1>\n",
    "<p\n",
    "   style='text-align:center;margin-top:-20px;margin-left:-35px;font-weight: bolder'\n",
    "   > Gujarati - Porter\n",
    "</p>"
   ]
  },
  {
   "cell_type": "markdown",
   "id": "4e0a4256-0758-452a-a546-ff75cddd1388",
   "metadata": {},
   "source": [
    "**Econometría** : Medición económica."
   ]
  },
  {
   "cell_type": "markdown",
   "id": "c77e6ec5-c913-4278-90c1-716f2c87b22b",
   "metadata": {},
   "source": [
    "<i style='text-align:justify;'>\n",
    "\"La econometría puede definirse como el análisis cuantitativo de fenómenos económicos reales,\n",
    "basados en el desarrollo simultáneo de la teoría y la observación, relacionados mediante métodos\n",
    "apropiados de inferencia.\"\n",
    "</i>\n",
    "<br/><br/>\n",
    "<i style='text-align: justify;'>\n",
    "\"La econometría se defi ne como la ciencia social en la cual las herramientas de la teoría económica,\n",
    "las matemáticas y la inferencia estadística se aplican al análisis de los fenómenos económicos.\"\n",
    "</i>"
   ]
  },
  {
   "cell_type": "markdown",
   "id": "11db0531-6bcb-48aa-870e-ef1b10c9c896",
   "metadata": {},
   "source": [
    "**Econometría** = Teoría económica **+** Economía matemática **+** Estadística económica y matemática"
   ]
  },
  {
   "cell_type": "markdown",
   "id": "690791f8-193d-49e0-a3b0-3d008d8f1d93",
   "metadata": {},
   "source": [
    "## Metodología clásica."
   ]
  },
  {
   "cell_type": "markdown",
   "id": "d351e0e7-ef22-457a-8069-e5141e4ecf70",
   "metadata": {},
   "source": [
    "<ol>\n",
    "    <li>Planteamiento de la teoría o hipótesis.</li>\n",
    "    <li>Especificación del modelo matemático de la teoría.</li>\n",
    "    <li>Especificación del modelo econométrico o estadístico de la teoría.</li>\n",
    "    <li>Obtención de datos.</li>\n",
    "    <li>Estimación de los parámetros del modelo econométrico.</li>\n",
    "    <li>Pruebas de hipótesis.</li>\n",
    "    <li>Pronóstico o predicción.</li>\n",
    "    <li>Utilización del modelo.</li>\n",
    "</ol>"
   ]
  },
  {
   "cell_type": "markdown",
   "id": "9b056892-cc81-45fa-8df1-f954f7f5cc52",
   "metadata": {},
   "source": [
    "## **1. Modelos de Regresión uniecuacionales.**"
   ]
  },
  {
   "cell_type": "markdown",
   "id": "a42c88fa-bb84-4881-b296-a46ecc71c84a",
   "metadata": {},
   "source": [
    "### I. Naturaleza del análisis de regresión."
   ]
  },
  {
   "cell_type": "markdown",
   "id": "ecb5cffb-7b9f-48fe-a415-2ae572a7ba50",
   "metadata": {},
   "source": [
    "<p style='text-align:justify;'>\n",
    "El análisis de regresión trata del estudio de la dependencia de una variable (variable dependiente)\n",
    "respecto de una o más variables (variables explicativas) con el objetivo de estimar o predecir la media\n",
    "o valor promedio poblacional de la primera en términos de los valores conocidos o fijos (en muestras\n",
    "repetidas) de las segundas.\n",
    "</p>\n",
    "<p style='text-align:justify;'>\n",
    "A pesar de que el análisis de regresión tiene que ver con la dependencia de una variable respecto de otros variables, esto no implica <strong><i>causalidad</i></strong> necesariamente.\n",
    "</p>\n",
    "<strong>Regresión y causalidad.</strong><br/>\n",
    "<i>\n",
    "“Una relación estadística, por más fuerte y sugerente que sea, nunca podrá establecer una conexión causal: nuestras ideas de causalidad deben provenir de estadísticas externas y, en último\n",
    "término, de una u otra teoría”.\n",
    "</i>"
   ]
  },
  {
   "cell_type": "markdown",
   "id": "c8917ff7-651a-48bf-8245-7f1ef713db89",
   "metadata": {},
   "source": [
    "#### **Tipos de datos**"
   ]
  },
  {
   "cell_type": "markdown",
   "id": "dda193cb-2b86-47b7-8763-4ceb6b0cc653",
   "metadata": {},
   "source": [
    "<ol>\n",
    "    <li>\n",
    "        <strong>Datos de series de tiempo.</strong> Una <i>serie de tiempo</i> es un conjunto de\n",
    "        observaciones sobre los valores de una variable en distintos momentos. La información debe \n",
    "        recopilarse en intervalos regulares. \n",
    "    </li>\n",
    "    <br>\n",
    "    <li>\n",
    "        <strong>Datos transversales. </strong> Son datos de una o más variables recopilados en el mismo \n",
    "        punto del tiempo.\n",
    "    </li>\n",
    "    <br>\n",
    "    <li>\n",
    "        <strong>Datos combinados.</strong> Reunen elementos de series de tiempo y datos \n",
    "        transversales.\n",
    "        <ul>\n",
    "            <li>\n",
    "                <strong>Datos de Panel.</strong> Se estudia a través del tiempo la misma unidad \n",
    "                transversal.\n",
    "            </li>\n",
    "        </ul>\n",
    "    </li>\n",
    "</ol>"
   ]
  },
  {
   "cell_type": "markdown",
   "id": "da7dc934-89e0-419c-85d5-e8f68ce21f63",
   "metadata": {},
   "source": [
    "### II. Análisis de regresión con dos variables: algunas ideas básicas."
   ]
  },
  {
   "cell_type": "code",
   "execution_count": 1,
   "id": "9061ee3e-d842-4a59-b33d-bc0b483233ae",
   "metadata": {},
   "outputs": [],
   "source": [
    "import pandas as pd\n",
    "import numpy as np\n",
    "import matplotlib.pyplot as plt\n",
    "import seaborn as sns"
   ]
  },
  {
   "cell_type": "code",
   "execution_count": 2,
   "id": "52913ec4-b490-4383-b77e-4e60a2aaf6da",
   "metadata": {},
   "outputs": [],
   "source": [
    "pd.options.display.max_columns = False"
   ]
  },
  {
   "cell_type": "markdown",
   "id": "ec96caa7-329e-4708-b2e2-5ffece922898",
   "metadata": {},
   "source": [
    "#### **Función de regresión poblacional (FRP)**"
   ]
  },
  {
   "cell_type": "markdown",
   "id": "ce234905-e93f-4326-be7d-a0d02fd9e5d5",
   "metadata": {},
   "source": [
    "Estos datos se refieren a la población total de 60 familias de una comunidad hipotética, así como a su ingreso semanal (X) y su gasto de consumo semanal(Y), en dólares."
   ]
  },
  {
   "cell_type": "code",
   "execution_count": 3,
   "id": "ab146492-6db6-40a8-ac50-aa15a5855453",
   "metadata": {},
   "outputs": [
    {
     "data": {
      "text/html": [
       "<div>\n",
       "<style scoped>\n",
       "    .dataframe tbody tr th:only-of-type {\n",
       "        vertical-align: middle;\n",
       "    }\n",
       "\n",
       "    .dataframe tbody tr th {\n",
       "        vertical-align: top;\n",
       "    }\n",
       "\n",
       "    .dataframe thead th {\n",
       "        text-align: right;\n",
       "    }\n",
       "</style>\n",
       "<table border=\"1\" class=\"dataframe\">\n",
       "  <thead>\n",
       "    <tr style=\"text-align: right;\">\n",
       "      <th></th>\n",
       "      <th>80</th>\n",
       "      <th>100</th>\n",
       "      <th>120</th>\n",
       "      <th>140</th>\n",
       "      <th>160</th>\n",
       "      <th>180</th>\n",
       "      <th>200</th>\n",
       "      <th>220</th>\n",
       "      <th>240</th>\n",
       "      <th>260</th>\n",
       "    </tr>\n",
       "  </thead>\n",
       "  <tbody>\n",
       "    <tr>\n",
       "      <th>0</th>\n",
       "      <td>55.0</td>\n",
       "      <td>65.0</td>\n",
       "      <td>79.0</td>\n",
       "      <td>80</td>\n",
       "      <td>102.0</td>\n",
       "      <td>110.0</td>\n",
       "      <td>120.0</td>\n",
       "      <td>135</td>\n",
       "      <td>137.0</td>\n",
       "      <td>150</td>\n",
       "    </tr>\n",
       "    <tr>\n",
       "      <th>1</th>\n",
       "      <td>60.0</td>\n",
       "      <td>70.0</td>\n",
       "      <td>84.0</td>\n",
       "      <td>93</td>\n",
       "      <td>107.0</td>\n",
       "      <td>115.0</td>\n",
       "      <td>136.0</td>\n",
       "      <td>137</td>\n",
       "      <td>145.0</td>\n",
       "      <td>152</td>\n",
       "    </tr>\n",
       "    <tr>\n",
       "      <th>2</th>\n",
       "      <td>65.0</td>\n",
       "      <td>74.0</td>\n",
       "      <td>90.0</td>\n",
       "      <td>95</td>\n",
       "      <td>110.0</td>\n",
       "      <td>120.0</td>\n",
       "      <td>140.0</td>\n",
       "      <td>140</td>\n",
       "      <td>155.0</td>\n",
       "      <td>175</td>\n",
       "    </tr>\n",
       "    <tr>\n",
       "      <th>3</th>\n",
       "      <td>70.0</td>\n",
       "      <td>80.0</td>\n",
       "      <td>94.0</td>\n",
       "      <td>103</td>\n",
       "      <td>116.0</td>\n",
       "      <td>130.0</td>\n",
       "      <td>144.0</td>\n",
       "      <td>152</td>\n",
       "      <td>165.0</td>\n",
       "      <td>178</td>\n",
       "    </tr>\n",
       "    <tr>\n",
       "      <th>4</th>\n",
       "      <td>75.0</td>\n",
       "      <td>85.0</td>\n",
       "      <td>98.0</td>\n",
       "      <td>108</td>\n",
       "      <td>118.0</td>\n",
       "      <td>135.0</td>\n",
       "      <td>145.0</td>\n",
       "      <td>157</td>\n",
       "      <td>175.0</td>\n",
       "      <td>180</td>\n",
       "    </tr>\n",
       "    <tr>\n",
       "      <th>5</th>\n",
       "      <td>NaN</td>\n",
       "      <td>88.0</td>\n",
       "      <td>NaN</td>\n",
       "      <td>113</td>\n",
       "      <td>125.0</td>\n",
       "      <td>140.0</td>\n",
       "      <td>NaN</td>\n",
       "      <td>160</td>\n",
       "      <td>189.0</td>\n",
       "      <td>185</td>\n",
       "    </tr>\n",
       "    <tr>\n",
       "      <th>6</th>\n",
       "      <td>NaN</td>\n",
       "      <td>NaN</td>\n",
       "      <td>NaN</td>\n",
       "      <td>115</td>\n",
       "      <td>NaN</td>\n",
       "      <td>NaN</td>\n",
       "      <td>NaN</td>\n",
       "      <td>162</td>\n",
       "      <td>NaN</td>\n",
       "      <td>191</td>\n",
       "    </tr>\n",
       "  </tbody>\n",
       "</table>\n",
       "</div>"
      ],
      "text/plain": [
       "    80    100   120  140    160    180    200  220    240  260\n",
       "0  55.0  65.0  79.0   80  102.0  110.0  120.0  135  137.0  150\n",
       "1  60.0  70.0  84.0   93  107.0  115.0  136.0  137  145.0  152\n",
       "2  65.0  74.0  90.0   95  110.0  120.0  140.0  140  155.0  175\n",
       "3  70.0  80.0  94.0  103  116.0  130.0  144.0  152  165.0  178\n",
       "4  75.0  85.0  98.0  108  118.0  135.0  145.0  157  175.0  180\n",
       "5   NaN  88.0   NaN  113  125.0  140.0    NaN  160  189.0  185\n",
       "6   NaN   NaN   NaN  115    NaN    NaN    NaN  162    NaN  191"
      ]
     },
     "execution_count": 3,
     "metadata": {},
     "output_type": "execute_result"
    }
   ],
   "source": [
    "df = pd.DataFrame({\n",
    "    80: [55, 60, 65, 70, 75, np.nan, np.nan],\n",
    "    100: [65, 70, 74, 80, 85, 88, np.nan],\n",
    "    120: [79, 84, 90, 94, 98, np.nan, np.nan],\n",
    "    140: [80, 93, 95, 103, 108, 113, 115],\n",
    "    160: [102, 107, 110, 116, 118, 125, np.nan],\n",
    "    180: [110, 115, 120, 130, 135, 140, np.nan],\n",
    "    200: [120, 136, 140, 144, 145, np.nan, np.nan],\n",
    "    220: [135, 137, 140, 152, 157, 160, 162],\n",
    "    240: [137, 145, 155, 165, 175, 189, np.nan],\n",
    "    260: [150, 152, 175, 178, 180, 185, 191]\n",
    "})\n",
    "df"
   ]
  },
  {
   "cell_type": "code",
   "execution_count": 4,
   "id": "1190d55d-d922-4e2c-ac5b-22600a5999c6",
   "metadata": {},
   "outputs": [],
   "source": [
    "promedio = []\n",
    "\n",
    "for i in list(df):\n",
    "    promedio.append(df.describe()[i]['mean'])"
   ]
  },
  {
   "cell_type": "code",
   "execution_count": 6,
   "id": "a1383262-e027-480f-9756-a701b7e3a54b",
   "metadata": {},
   "outputs": [
    {
     "data": {
      "image/png": "[encoded data removed]",
      "text/plain": [
       "<Figure size 1008x360 with 1 Axes>"
      ]
     },
     "metadata": {},
     "output_type": "display_data"
    }
   ],
   "source": [
    "fig, ax = plt.subplots(figsize=(14,5))\n",
    "\n",
    "plt.title('Distribución del gasto para varios niveles de ingreso.', size=16, color='white')\n",
    "plt.grid(visible=True, linewidth=0.1, color='white')\n",
    "fig.patch.set_facecolor('#21252b') \n",
    "ax.set_facecolor('#282c34') \n",
    "\n",
    "for i in list(df):\n",
    "    plt.scatter(x=[i for j in range(7)], y=df[i])\n",
    "\n",
    "plt.scatter(list(df), promedio, marker='x', s=100, color='white')\n",
    "plt.plot(list(df), promedio, color='white')\n",
    "\n",
    "plt.xlabel('Ingreso semanal', size=14, weight=700, color='white')\n",
    "plt.xticks(color='white', size=12)\n",
    "\n",
    "plt.ylabel('Consumo semanal', size=14, weight=700, color='white')\n",
    "plt.yticks(color='white', size=12)\n",
    "plt.ylim(40, 220)\n",
    "\n",
    "plt.show()"
   ]
  },
  {
   "cell_type": "markdown",
   "id": "922bb874-72cb-48ca-9d1c-d8c12453e13e",
   "metadata": {},
   "source": [
    "El panorama general es que, a pesar de la variabilidad del consumo semanal en cada nivel de ingreso considerado, en promedio, el consumo semanal se incrementa a medida que aumenta el ingreso. \n",
    "\n",
    "En total hay 10 valores medios para las 10 subpoblaciones de Y. A estos valores medios se les llama **valores esperados condicionales**, en virtud de que dependen de los valores de la variable (condicional) X. En forma simbólica, se denotan con E(Y | X ), lo cual se lee como el valor esperado de Y, dado el valor de X.\n",
    "\n",
    "Al unir los valores medios condicionales de Y obtenemos nuestra linea de regresión poblacional.\n",
    "\n",
    "De igual forma nos damos cuenta que cada media condicional E(Y|X) esta en función de X\n",
    "\n",
    "$$E(Y|X_i) = f(X_i)$$\n",
    "\n",
    "Aquí nos damos cuenta del poder de la regresión, si conocemos la información del nivel de ingresos de los hogares será mucho más preciso calcular el gasto promedio con base a este, que simplemente calcular el valor promedio general (o valor espetado) de la muestra."
   ]
  },
  {
   "cell_type": "markdown",
   "id": "92c155a4-dae8-4be2-9f82-58ec6c06f765",
   "metadata": {},
   "source": [
    "Si asumieramos que el consumo tiene una relación lineal con el ingreso podriamos empezar a darle forma a nuestra función.\n",
    "\n",
    "$$E(Y|X_i) = \\beta_1 + \\beta_2*X_i$$\n",
    "\n",
    "Donde los betas representan los coeficientes de regresión (intersección y pendiente) y X es nuestra variable explicativa.\n",
    "\n",
    "El objetivo final del **análisis de regresión** es estimar el valor de estos parámetros de la manera que mejor se adapten a nuestros datos."
   ]
  },
  {
   "cell_type": "code",
   "execution_count": 7,
   "id": "dc61efc9-23d8-4cfb-a631-f54bd9e39733",
   "metadata": {},
   "outputs": [
    {
     "data": {
      "image/png": "[encoded data removed]",
      "text/plain": [
       "<Figure size 864x360 with 1 Axes>"
      ]
     },
     "metadata": {},
     "output_type": "display_data"
    }
   ],
   "source": [
    "data = [df[i].dropna() for i in list(df)]\n",
    "\n",
    "fig, ax = plt.subplots(figsize=(12, 5))\n",
    "plt.title('Distribuciones de probabilidad para cada rango de ingreso', color='white', size= 13)\n",
    "fig.patch.set_facecolor('#21252b') \n",
    "ax.set_facecolor('#282c34') \n",
    "plt.grid(visible=True, linewidth=0.1, color='white')\n",
    "\n",
    "plt.xlabel('Ingreso semanal', color='white', size=13)\n",
    "plt.ylabel('Consumo semanal', color='white', size=13)\n",
    "\n",
    "ax.tick_params(axis='x', which='both', colors='#21252b')\n",
    "ax.tick_params(axis='y', which='both', colors='#21252b')\n",
    "\n",
    "plt.xticks(color='white')\n",
    "plt.yticks(color='white')\n",
    "\n",
    "c='green'\n",
    "\n",
    "plt.boxplot(\n",
    "    data, \n",
    "    showmeans=True,\n",
    "    patch_artist=True,\n",
    "    boxprops=dict(color=c, linewidth=2, facecolor=(0, 1, 0, 0.1)),\n",
    "    capprops=dict(color=c, linewidth=2),\n",
    "    whiskerprops=dict(color=c, linewidth=2),\n",
    "    flierprops=dict(markeredgecolor='gray'),\n",
    "    medianprops=dict(color='white'),\n",
    "    meanprops=dict(markeredgecolor='white')\n",
    ")\n",
    "\n",
    "values=[1, 2, 3, 4, 5, 6, 7, 8, 9, 10]\n",
    "plt.plot(values, promedio, color='gray')\n",
    "plt.plot(values, [121 for i in values], color='gray')\n",
    "\n",
    "plt.show()"
   ]
  },
  {
   "cell_type": "markdown",
   "id": "8842dbda-462a-4344-885f-f67163523485",
   "metadata": {},
   "source": [
    "En esta gráfica podemos observar la gran diferencia entre el promedio general del consumo ($121) y el valor del promedio dado un nivel de ingreso familiar. En algunos casos, la diferencia es abismal.\n",
    "\n",
    "La diferencia entre estos valores puede verse de la siguiente manera:\n",
    "\n",
    "$$u_i = Y_i - E(Y|X_i)$$\n",
    "\n",
    "Con lo que podemos llegar a: \n",
    "$$Y_i = E(Y|X_i) + u_i$$\n",
    "\n",
    "Donde *u* seria una variable alatoria no observable que captura aquellos datos que no estamos incluyendo dentro de nuestro modelo. Se conoce ***perturbación estocastica*** o ***termino de error***."
   ]
  },
  {
   "cell_type": "markdown",
   "id": "2601437d-4e1c-4f93-99cd-a2bef8025025",
   "metadata": {},
   "source": [
    "Por lo tanto nuestro modelo constaria de dos componentes, uno ***determinista***, que viene determinado por la media del consumo de los hogares con el mismo nivel de ingreso. Y un componente ***estocastico*** que sintetiza las variables no observadas.\n",
    "\n",
    "Al final nuestro modelo se veria de la siguiente manera:\n",
    "\n",
    "$$Y_i = \\beta_1 + (\\beta_2*X_i) + u_i$$ "
   ]
  },
  {
   "cell_type": "markdown",
   "id": "6914ae3e-fd1d-4582-9346-047d31423da1",
   "metadata": {},
   "source": [
    "**¿Cuál es el valor esperado del error?**\n",
    "\n",
    "Si tomamos nuestra ecuación:\n",
    "\n",
    "$$Y_i = E(Y|X_i) + u_i$$\n",
    "\n",
    "Y calculamos el valor esperado en ambos lados nos quedamos con:\n",
    "\n",
    "$$E(Y_i|X_i) = E[E(Y|X_i)|X_i] + E(u_i|X_i)$$\n",
    "\n",
    "Resolviendo esto nos quedamos con:\n",
    "\n",
    "$$E(Y_i|X_i) = E(Y|X_i) + E(u_i|X_i)$$\n",
    "$$E(u_i|X_i) = E(Y_i|X_i) - E(Y|X_i)$$\n",
    "$$E(u_i|X_i) = 0$$\n",
    "\n",
    "Recordemos que al final, el **valor esperado** no es más que un promedio. Esta demostración ilustra que al final, el promedio de los terminos de error para diferentes niveles del ingreso es de cero, por lo que no afectara nuestra **recta regresora**."
   ]
  },
  {
   "cell_type": "markdown",
   "id": "090c097b-10ed-4a28-8649-fe251c83e1c6",
   "metadata": {},
   "source": [
    "#### **Función de regresión Muestral (FRM)**\n",
    "\n",
    "Supongamos que para los datos del ejercicio anterior ya no contamos con la población sino con un conjunto de muestras. "
   ]
  },
  {
   "cell_type": "code",
   "execution_count": 8,
   "id": "6fc6c315-c9e6-4f65-889e-a4b4755d7eae",
   "metadata": {},
   "outputs": [],
   "source": [
    "m1 = pd.DataFrame({\n",
    "    'Y': [70, 65, 90, 95, 110, 115, 120, 140, 155, 150],\n",
    "    'X': [80, 100, 120, 140, 160, 180, 200, 220, 240, 260]\n",
    "})\n",
    "\n",
    "m2 = pd.DataFrame({\n",
    "    'Y': [55, 88, 90, 80, 118, 120, 145, 135, 145, 175],\n",
    "    'X': [80, 100, 120, 140, 160, 180, 200, 220, 240, 260]\n",
    "})"
   ]
  },
  {
   "cell_type": "code",
   "execution_count": 9,
   "id": "35320074-4b3d-43f1-b140-7cd917187096",
   "metadata": {},
   "outputs": [
    {
     "data": {
      "image/png": "[encoded data removed]",
      "text/plain": [
       "<Figure size 1008x360 with 1 Axes>"
      ]
     },
     "metadata": {},
     "output_type": "display_data"
    }
   ],
   "source": [
    "fig, ax = plt.subplots(figsize=(14, 5))\n",
    "plt.title('Lineas de regresión muestral', color='white', size=13, weight=1000)\n",
    "\n",
    "# Configuración de estolos\n",
    "fig.patch.set_facecolor('#21252b') \n",
    "ax.set_facecolor('#282c34') \n",
    "plt.grid(visible=True, linewidth=0.1, color='white')\n",
    "\n",
    "ax.tick_params(axis='x', which='both', colors='#21252b')\n",
    "ax.tick_params(axis='y', which='both', colors='#21252b')\n",
    "\n",
    "plt.xticks(color='white')\n",
    "plt.yticks(color='white')\n",
    "\n",
    "# Pintando nuestras gráficas\n",
    "m, b = np.polyfit(m1['X'], m1['Y'], 1)\n",
    "plt.plot(m1['X'], [m*i for i in m1['X'] ] + b, label='FRM1')\n",
    "plt.scatter(x=m1['X'], y=m1['Y'], label='Primera muestra', marker='o')\n",
    "\n",
    "m, b = np.polyfit(m2['X'], m2['Y'], 1)\n",
    "plt.plot(m2['X'], [m*i for i in m2['X']] + b, label='FRM2')\n",
    "plt.scatter(x=m2['X'], y=m2['Y'], label='Segunda muestra', marker='x')\n",
    "\n",
    "plt.xlabel('Ingreso semanal', color='white', size=13)\n",
    "plt.ylabel('Consumo semanal', color='white', size=13)\n",
    "\n",
    "plt.legend()\n",
    "\n",
    "plt.show()"
   ]
  },
  {
   "cell_type": "markdown",
   "id": "e7b418be-c5cf-4be3-ac27-01f3001ffc1e",
   "metadata": {},
   "source": [
    "Cuando trabajamos con muestras de nuestra población vamos a obtener diferentes funciones de regresión para cada una de ellas.\n",
    "\n",
    "Y en este caso nuestra ecuación, la **función de regresión muestral**, se veria de la siguiente forma:\n",
    "\n",
    "$$\\hat{Y} = \\hat{\\beta_1} + (\\hat{\\beta_2} * X_i)$$\n",
    "\n",
    "o de la forma estocástica: \n",
    "\n",
    "$$\\hat{Y} = \\hat{\\beta_1} + (\\hat{\\beta_2} * X_i) + \\hat{u_i}$$\n",
    "\n",
    "\n",
    "Donde las variables que tienen gorro son estimadores de nuestra población.\n",
    "\n",
    "El valor obtenido de estas funciones se denomina **estimación**."
   ]
  },
  {
   "cell_type": "markdown",
   "id": "72599a1d-2074-4cad-aaca-d1df055ced07",
   "metadata": {},
   "source": [
    "De manera que el objetivo final del análisis de regresión es estimar la **Función de Regresión Poblacional (FRP)**\n",
    "\n",
    "$$Y = \\beta_1 + (\\beta_2 * X_i) + u_i$$\n",
    "\n",
    "dada la **Función de Regresión Muestral (FRM)**\n",
    "\n",
    "$$\\hat{Y} = \\hat{\\beta_1} + (\\hat{\\beta_2} * X_i) + \\hat{u_i}$$"
   ]
  },
  {
   "cell_type": "markdown",
   "id": "957ff522-6728-43ef-851b-7cb01a5da39b",
   "metadata": {},
   "source": [
    "### III. Modelo de regresión con dos variables: problema de estimación."
   ]
  },
  {
   "cell_type": "markdown",
   "id": "938a2f2c-4cb5-47c6-9fff-5904dfa69324",
   "metadata": {},
   "source": [
    "#### **Método de Mínimos Cuadrados Ordinarios (MCO)**"
   ]
  },
  {
   "cell_type": "markdown",
   "id": "908d9669-0e01-4707-b59c-c064ffca37ee",
   "metadata": {},
   "source": [
    "Tenemos nuestra FRM\n",
    "\n",
    "$${Y_i} = \\hat{\\beta_1} + (\\hat{\\beta_2} * X_i) + \\hat{u_i}$$\n",
    "\n",
    "que puede ser escrita de la siguiente manera\n",
    "\n",
    "$${u_i} = Y_i - \\hat{\\beta_1} - (\\hat{\\beta_2} * X_i)$$\n",
    "\n",
    "o de la siguiente:\n",
    "\n",
    "$${Y_i} = \\hat{Y_i} + \\hat{u_i}$$\n",
    "\n",
    "Con esto nos damos cuenta que los residuos son la diferencia entre los valores observados y los estimados:\n",
    "\n",
    "$$ \\hat{u_i} = {Y_i} - \\hat{Y_i}$$\n",
    "\n",
    "Por lo tanto:\n",
    "\n",
    "$$ \\sum\\hat{u_i} = \\sum({Y_i} - \\hat{Y_i})$$\n",
    "\n",
    "Nuestro objetivo es que la diferencia de las estimaciones sea la miníma con respecto a los valores observados. Sin embargo esta formula tiene un problema, no estamos ponderando con respecto a la diferencia entre la estimación y el valor observado de manera que cuando sumemos los residuos todos tendran el mismo peso.\n",
    "\n",
    "Para solucionar este problema utilizaremos el **criterio de mínimos cuadrados**\n",
    "\n",
    "$$ \\sum\\hat{u_i}^2 = \\sum({Y_i} - \\hat{Y_i})^2$$\n",
    "\n",
    "Y por lo tanto:\n",
    "\n",
    "$$ \\sum\\hat{u_i}^2 = \\sum({Y_i} - \\hat{\\beta_1} - (\\hat{\\beta_2} * X_i))^2$$\n",
    "\n",
    "\n",
    "Esta herramienta matemática nos permite solucionar el problema de la ponderación a la vez que quita los valores negativos resultantes de una sobre o sub estimación de la regresión lo que nos sirve para abordar mejor nuestro ejercicio."
   ]
  },
  {
   "cell_type": "code",
   "execution_count": 39,
   "id": "103f49fc-a481-451b-b607-7b73e0c1fa26",
   "metadata": {},
   "outputs": [
    {
     "data": {
      "text/html": [
       "<div>\n",
       "<style scoped>\n",
       "    .dataframe tbody tr th:only-of-type {\n",
       "        vertical-align: middle;\n",
       "    }\n",
       "\n",
       "    .dataframe tbody tr th {\n",
       "        vertical-align: top;\n",
       "    }\n",
       "\n",
       "    .dataframe thead th {\n",
       "        text-align: right;\n",
       "    }\n",
       "</style>\n",
       "<table border=\"1\" class=\"dataframe\">\n",
       "  <thead>\n",
       "    <tr style=\"text-align: right;\">\n",
       "      <th></th>\n",
       "      <th>Y_i</th>\n",
       "      <th>X_t</th>\n",
       "      <th>Y1_est</th>\n",
       "      <th>u1_est</th>\n",
       "      <th>u1_est2</th>\n",
       "      <th>Y2_est</th>\n",
       "      <th>u2_est</th>\n",
       "      <th>u2_est2</th>\n",
       "    </tr>\n",
       "  </thead>\n",
       "  <tbody>\n",
       "    <tr>\n",
       "      <th>0</th>\n",
       "      <td>4</td>\n",
       "      <td>1</td>\n",
       "      <td>2.929</td>\n",
       "      <td>1.071</td>\n",
       "      <td>1.147</td>\n",
       "      <td>4</td>\n",
       "      <td>0</td>\n",
       "      <td>0</td>\n",
       "    </tr>\n",
       "    <tr>\n",
       "      <th>1</th>\n",
       "      <td>5</td>\n",
       "      <td>4</td>\n",
       "      <td>7.000</td>\n",
       "      <td>-2.000</td>\n",
       "      <td>4.000</td>\n",
       "      <td>7</td>\n",
       "      <td>-2</td>\n",
       "      <td>4</td>\n",
       "    </tr>\n",
       "    <tr>\n",
       "      <th>2</th>\n",
       "      <td>7</td>\n",
       "      <td>5</td>\n",
       "      <td>8.357</td>\n",
       "      <td>-1.357</td>\n",
       "      <td>1.841</td>\n",
       "      <td>8</td>\n",
       "      <td>-1</td>\n",
       "      <td>1</td>\n",
       "    </tr>\n",
       "    <tr>\n",
       "      <th>3</th>\n",
       "      <td>12</td>\n",
       "      <td>6</td>\n",
       "      <td>9.714</td>\n",
       "      <td>2.286</td>\n",
       "      <td>5.226</td>\n",
       "      <td>9</td>\n",
       "      <td>3</td>\n",
       "      <td>9</td>\n",
       "    </tr>\n",
       "  </tbody>\n",
       "</table>\n",
       "</div>"
      ],
      "text/plain": [
       "   Y_i  X_t  Y1_est  u1_est  u1_est2  Y2_est  u2_est  u2_est2\n",
       "0    4    1   2.929   1.071    1.147       4       0        0\n",
       "1    5    4   7.000  -2.000    4.000       7      -2        4\n",
       "2    7    5   8.357  -1.357    1.841       8      -1        1\n",
       "3   12    6   9.714   2.286    5.226       9       3        9"
      ]
     },
     "execution_count": 39,
     "metadata": {},
     "output_type": "execute_result"
    }
   ],
   "source": [
    "p1 = pd.DataFrame({\n",
    "    'Y_i': [4, 5, 7 , 12],\n",
    "    'X_t': [1, 4, 5, 6],\n",
    "})\n",
    "\n",
    "betha1_1 = 1.572\n",
    "betha2_1 = 1.357\n",
    "\n",
    "betha1_2 = 3\n",
    "betha2_2 = 1\n",
    "\n",
    "p1['Y1_est'] = betha1_1 + p1['X_t']*betha2_1\n",
    "p1['u1_est'] = p1['Y_i'] - p1['Y1_est']\n",
    "p1['u1_est2'] = p1['u1_est'].apply(lambda x: round(x**2, 3))\n",
    "\n",
    "p1['Y2_est'] = betha1_2 + p1['X_t']*betha2_2\n",
    "p1['u2_est'] = p1['Y_i'] - p1['Y2_est']\n",
    "p1['u2_est2'] = p1['u2_est'].apply(lambda x: round(x**2, 3))\n",
    "\n",
    "p1"
   ]
  },
  {
   "cell_type": "code",
   "execution_count": 40,
   "id": "b9fb6ac2-a203-4857-b504-2c27f50f8fe1",
   "metadata": {},
   "outputs": [
    {
     "data": {
      "text/plain": [
       "12.214"
      ]
     },
     "execution_count": 40,
     "metadata": {},
     "output_type": "execute_result"
    }
   ],
   "source": [
    "# Suma de los residuos cuadrados para el primer conjunto de parametros\n",
    "p1['u1_est2'].sum()"
   ]
  },
  {
   "cell_type": "code",
   "execution_count": 41,
   "id": "504254c7-aaea-41c3-a34e-0e5fb4c0f16b",
   "metadata": {},
   "outputs": [
    {
     "data": {
      "text/plain": [
       "14"
      ]
     },
     "execution_count": 41,
     "metadata": {},
     "output_type": "execute_result"
    }
   ],
   "source": [
    "# Suma de los residuos cuadrados para el segundo conjunto de parametros\n",
    "p1['u2_est2'].sum()"
   ]
  },
  {
   "cell_type": "markdown",
   "id": "a947f82d-f312-4df8-b961-70079db76997",
   "metadata": {},
   "source": [
    "Aquí tenemos un ejemplo en el que utilizamos distintos valores para nuestros parámetros que se verán reflejados en diferentes estimaciones. El método de MCO pretende encontrar aquellos estimadores cuya suma de residuos sea la menor. ¿Cómo hacemos eso? Con un ejercicio de cálculo diferencial."
   ]
  },
  {
   "cell_type": "markdown",
   "id": "a79a037e-3973-42a5-9cfd-443fbbb542f6",
   "metadata": {},
   "source": [
    "Tenemos que: \n",
    "\n",
    "$$ \\sum\\hat{u_i}^2 = \\sum({Y_i} - \\hat{\\beta_1} - (\\hat{\\beta_2} * X_i))^2$$\n",
    "\n",
    "Ahora procedemos a derivar parcialmente con respecto a cada uno de nuestros parametros:\n",
    "\n",
    "**Betha 1**\n",
    "\n",
    "$$ \\frac{\\partial{\\sum\\hat{u_i}^2}}{\\partial{\\beta_1}} = \\frac{\\partial{\\sum({Y_i} - \\hat{\\beta_1} - (\\hat{\\beta_2} * X_i))^2}}{\\partial{\\beta_1}} $$\n",
    "\n",
    "$$ \\frac{\\partial{\\sum\\hat{u_i}^2}}{\\partial{\\beta_1}} = 2*\\sum({Y_i} - \\hat{\\beta_1} - (\\hat{\\beta_2} * X_i) * -1$$\n",
    "\n",
    "$$ \\frac{\\partial{\\sum\\hat{u_i}^2}}{\\partial{\\beta_1}} = -2*\\sum({Y_i} - \\hat{\\beta_1} - (\\hat{\\beta_2} * X_i)$$\n",
    "\n",
    "$$ \\frac{\\partial{\\sum\\hat{u_i}^2}}{\\partial{\\beta_1}} = -2*\\sum({\\hat{u_1}})$$\n",
    "\n",
    "**Betha 2**\n",
    "\n",
    "$$ \\frac{\\partial{\\sum\\hat{u_i}^2}}{\\partial{\\beta_2}} = \\frac{\\partial{\\sum({Y_i} - \\hat{\\beta_1} - (\\hat{\\beta_2} * X_i))^2}}{\\partial{\\beta_2}} $$\n",
    "\n",
    "$$ \\frac{\\partial{\\sum\\hat{u_i}^2}}{\\partial{\\beta_2}} = 2*\\sum({Y_i} - \\hat{\\beta_1} - (\\hat{\\beta_2} * X_i) * -X_1$$\n",
    "\n",
    "$$ \\frac{\\partial{\\sum\\hat{u_i}^2}}{\\partial{\\beta_2}} = -2X_1*\\sum({Y_i} - \\hat{\\beta_1} - (\\hat{\\beta_2} * X_i)$$\n",
    "\n",
    "$$ \\frac{\\partial{\\sum\\hat{u_i}^2}}{\\partial{\\beta_2}} = -2X_1*\\sum({\\hat{u_1}})$$"
   ]
  }
 ],
 "metadata": {
  "kernelspec": {
   "display_name": "Python 3 (ipykernel)",
   "language": "python",
   "name": "python3"
  },
  "language_info": {
   "codemirror_mode": {
    "name": "ipython",
    "version": 3
   },
   "file_extension": ".py",
   "mimetype": "text/x-python",
   "name": "python",
   "nbconvert_exporter": "python",
   "pygments_lexer": "ipython3",
   "version": "3.8.12"
  },
  "toc-autonumbering": false,
  "toc-showcode": false,
  "toc-showmarkdowntxt": false
 },
 "nbformat": 4,
 "nbformat_minor": 5
}
