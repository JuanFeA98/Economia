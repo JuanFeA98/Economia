{
 "cells": [
  {
   "cell_type": "markdown",
   "id": "e5436af9-0ee3-4279-88e4-9f7cef0357eb",
   "metadata": {},
   "source": [
    "<h1\n",
    "    style='text-align:center;font-weight: bolder;'\n",
    "    >\n",
    "    Econometría.\n",
    "</h1>\n",
    "<p\n",
    "   style='text-align:center;margin-top:-20px;margin-left:-35px;font-weight: bolder'\n",
    "   > Gujarati - Porter\n",
    "</p>"
   ]
  },
  {
   "cell_type": "markdown",
   "id": "4e0a4256-0758-452a-a546-ff75cddd1388",
   "metadata": {},
   "source": [
    "**Econometría** : Medición económica."
   ]
  },
  {
   "cell_type": "markdown",
   "id": "c77e6ec5-c913-4278-90c1-716f2c87b22b",
   "metadata": {},
   "source": [
    "<i style='text-align:justify;'>\n",
    "\"La econometría puede definirse como el análisis cuantitativo de fenómenos económicos reales,\n",
    "basados en el desarrollo simultáneo de la teoría y la observación, relacionados mediante métodos\n",
    "apropiados de inferencia.\"\n",
    "</i>\n",
    "<br/><br/>\n",
    "<i style='text-align: justify;'>\n",
    "\"La econometría se defi ne como la ciencia social en la cual las herramientas de la teoría económica,\n",
    "las matemáticas y la inferencia estadística se aplican al análisis de los fenómenos económicos.\"\n",
    "</i>"
   ]
  },
  {
   "cell_type": "markdown",
   "id": "11db0531-6bcb-48aa-870e-ef1b10c9c896",
   "metadata": {},
   "source": [
    "**Econometría** = Teoría económica **+** Economía matemática **+** Estadística económica y matemática"
   ]
  },
  {
   "cell_type": "markdown",
   "id": "690791f8-193d-49e0-a3b0-3d008d8f1d93",
   "metadata": {},
   "source": [
    "## Metodología clásica."
   ]
  },
  {
   "cell_type": "markdown",
   "id": "d351e0e7-ef22-457a-8069-e5141e4ecf70",
   "metadata": {},
   "source": [
    "<ol>\n",
    "    <li>Planteamiento de la teoría o hipótesis.</li>\n",
    "    <li>Especificación del modelo matemático de la teoría.</li>\n",
    "    <li>Especificación del modelo econométrico o estadístico de la teoría.</li>\n",
    "    <li>Obtención de datos.</li>\n",
    "    <li>Estimación de los parámetros del modelo econométrico.</li>\n",
    "    <li>Pruebas de hipótesis.</li>\n",
    "    <li>Pronóstico o predicción.</li>\n",
    "    <li>Utilización del modelo.</li>\n",
    "</ol>"
   ]
  },
  {
   "cell_type": "markdown",
   "id": "9b056892-cc81-45fa-8df1-f954f7f5cc52",
   "metadata": {},
   "source": [
    "## **1. Modelos de Regresión uniecuacionales.**"
   ]
  },
  {
   "cell_type": "markdown",
   "id": "a42c88fa-bb84-4881-b296-a46ecc71c84a",
   "metadata": {},
   "source": [
    "### I. Naturaleza del análisis de regresión."
   ]
  },
  {
   "cell_type": "markdown",
   "id": "ecb5cffb-7b9f-48fe-a415-2ae572a7ba50",
   "metadata": {},
   "source": [
    "<p style='text-align:justify;'>\n",
    "El análisis de regresión trata del estudio de la dependencia de una variable (variable dependiente)\n",
    "respecto de una o más variables (variables explicativas) con el objetivo de estimar o predecir la media\n",
    "o valor promedio poblacional de la primera en términos de los valores conocidos o fijos (en muestras\n",
    "repetidas) de las segundas.\n",
    "</p>\n",
    "<p style='text-align:justify;'>\n",
    "A pesar de que el análisis de regresión tiene que ver con la dependencia de una variable respecto de otros variables, esto no implica <strong><i>causalidad</i></strong> necesariamente.\n",
    "</p>\n",
    "<strong>Regresión y causalidad.</strong><br/>\n",
    "<i>\n",
    "“Una relación estadística, por más fuerte y sugerente que sea, nunca podrá establecer una conexión causal: nuestras ideas de causalidad deben provenir de estadísticas externas y, en último\n",
    "término, de una u otra teoría”.\n",
    "</i>"
   ]
  },
  {
   "cell_type": "markdown",
   "id": "c8917ff7-651a-48bf-8245-7f1ef713db89",
   "metadata": {},
   "source": [
    "#### **Tipos de datos**"
   ]
  },
  {
   "cell_type": "markdown",
   "id": "dda193cb-2b86-47b7-8763-4ceb6b0cc653",
   "metadata": {},
   "source": [
    "<ol>\n",
    "    <li>\n",
    "        <strong>Datos de series de tiempo.</strong> Una <i>serie de tiempo</i> es un conjunto de\n",
    "        observaciones sobre los valores de una variable en distintos momentos. La información debe \n",
    "        recopilarse en intervalos regulares. \n",
    "    </li>\n",
    "    <br>\n",
    "    <li>\n",
    "        <strong>Datos transversales. </strong> Son datos de una o más variables recopilados en el mismo \n",
    "        punto del tiempo.\n",
    "    </li>\n",
    "    <br>\n",
    "    <li>\n",
    "        <strong>Datos combinados.</strong> Reunen elementos de series de tiempo y datos \n",
    "        transversales.\n",
    "        <ul>\n",
    "            <li>\n",
    "                <strong>Datos de Panel.</strong> Se estudia a través del tiempo la misma unidad \n",
    "                transversal.\n",
    "            </li>\n",
    "        </ul>\n",
    "    </li>\n",
    "</ol>"
   ]
  },
  {
   "cell_type": "markdown",
   "id": "da7dc934-89e0-419c-85d5-e8f68ce21f63",
   "metadata": {},
   "source": [
    "### II. Análisis de regresión con dos variables: algunas ideas básicas."
   ]
  },
  {
   "cell_type": "code",
   "execution_count": 1,
   "id": "9061ee3e-d842-4a59-b33d-bc0b483233ae",
   "metadata": {},
   "outputs": [],
   "source": [
    "import pandas as pd\n",
    "import numpy as np\n",
    "import matplotlib.pyplot as plt\n",
    "import seaborn as sns"
   ]
  },
  {
   "cell_type": "code",
   "execution_count": 2,
   "id": "52913ec4-b490-4383-b77e-4e60a2aaf6da",
   "metadata": {},
   "outputs": [],
   "source": [
    "pd.options.display.max_columns = False"
   ]
  },
  {
   "cell_type": "markdown",
   "id": "ce234905-e93f-4326-be7d-a0d02fd9e5d5",
   "metadata": {},
   "source": [
    "Estos datos se refieren a la población total de 60 familias de una comunidad hipotética, así como a su ingreso semanal (X) y su gasto de consumo semanal(Y), en dólares."
   ]
  },
  {
   "cell_type": "code",
   "execution_count": 3,
   "id": "ab146492-6db6-40a8-ac50-aa15a5855453",
   "metadata": {},
   "outputs": [
    {
     "data": {
      "text/html": [
       "<div>\n",
       "<style scoped>\n",
       "    .dataframe tbody tr th:only-of-type {\n",
       "        vertical-align: middle;\n",
       "    }\n",
       "\n",
       "    .dataframe tbody tr th {\n",
       "        vertical-align: top;\n",
       "    }\n",
       "\n",
       "    .dataframe thead th {\n",
       "        text-align: right;\n",
       "    }\n",
       "</style>\n",
       "<table border=\"1\" class=\"dataframe\">\n",
       "  <thead>\n",
       "    <tr style=\"text-align: right;\">\n",
       "      <th></th>\n",
       "      <th>80</th>\n",
       "      <th>100</th>\n",
       "      <th>120</th>\n",
       "      <th>140</th>\n",
       "      <th>160</th>\n",
       "      <th>180</th>\n",
       "      <th>200</th>\n",
       "      <th>220</th>\n",
       "      <th>240</th>\n",
       "      <th>260</th>\n",
       "    </tr>\n",
       "  </thead>\n",
       "  <tbody>\n",
       "    <tr>\n",
       "      <th>0</th>\n",
       "      <td>55.0</td>\n",
       "      <td>65.0</td>\n",
       "      <td>79.0</td>\n",
       "      <td>80</td>\n",
       "      <td>102.0</td>\n",
       "      <td>110.0</td>\n",
       "      <td>120.0</td>\n",
       "      <td>135</td>\n",
       "      <td>137.0</td>\n",
       "      <td>150</td>\n",
       "    </tr>\n",
       "    <tr>\n",
       "      <th>1</th>\n",
       "      <td>60.0</td>\n",
       "      <td>70.0</td>\n",
       "      <td>84.0</td>\n",
       "      <td>93</td>\n",
       "      <td>107.0</td>\n",
       "      <td>115.0</td>\n",
       "      <td>136.0</td>\n",
       "      <td>137</td>\n",
       "      <td>145.0</td>\n",
       "      <td>152</td>\n",
       "    </tr>\n",
       "    <tr>\n",
       "      <th>2</th>\n",
       "      <td>65.0</td>\n",
       "      <td>74.0</td>\n",
       "      <td>90.0</td>\n",
       "      <td>95</td>\n",
       "      <td>110.0</td>\n",
       "      <td>120.0</td>\n",
       "      <td>140.0</td>\n",
       "      <td>140</td>\n",
       "      <td>155.0</td>\n",
       "      <td>175</td>\n",
       "    </tr>\n",
       "    <tr>\n",
       "      <th>3</th>\n",
       "      <td>70.0</td>\n",
       "      <td>80.0</td>\n",
       "      <td>94.0</td>\n",
       "      <td>103</td>\n",
       "      <td>116.0</td>\n",
       "      <td>130.0</td>\n",
       "      <td>144.0</td>\n",
       "      <td>152</td>\n",
       "      <td>165.0</td>\n",
       "      <td>178</td>\n",
       "    </tr>\n",
       "    <tr>\n",
       "      <th>4</th>\n",
       "      <td>75.0</td>\n",
       "      <td>85.0</td>\n",
       "      <td>98.0</td>\n",
       "      <td>108</td>\n",
       "      <td>118.0</td>\n",
       "      <td>135.0</td>\n",
       "      <td>145.0</td>\n",
       "      <td>157</td>\n",
       "      <td>175.0</td>\n",
       "      <td>180</td>\n",
       "    </tr>\n",
       "    <tr>\n",
       "      <th>5</th>\n",
       "      <td>NaN</td>\n",
       "      <td>88.0</td>\n",
       "      <td>NaN</td>\n",
       "      <td>113</td>\n",
       "      <td>125.0</td>\n",
       "      <td>140.0</td>\n",
       "      <td>NaN</td>\n",
       "      <td>160</td>\n",
       "      <td>189.0</td>\n",
       "      <td>185</td>\n",
       "    </tr>\n",
       "    <tr>\n",
       "      <th>6</th>\n",
       "      <td>NaN</td>\n",
       "      <td>NaN</td>\n",
       "      <td>NaN</td>\n",
       "      <td>115</td>\n",
       "      <td>NaN</td>\n",
       "      <td>NaN</td>\n",
       "      <td>NaN</td>\n",
       "      <td>162</td>\n",
       "      <td>NaN</td>\n",
       "      <td>191</td>\n",
       "    </tr>\n",
       "  </tbody>\n",
       "</table>\n",
       "</div>"
      ],
      "text/plain": [
       "    80    100   120  140    160    180    200  220    240  260\n",
       "0  55.0  65.0  79.0   80  102.0  110.0  120.0  135  137.0  150\n",
       "1  60.0  70.0  84.0   93  107.0  115.0  136.0  137  145.0  152\n",
       "2  65.0  74.0  90.0   95  110.0  120.0  140.0  140  155.0  175\n",
       "3  70.0  80.0  94.0  103  116.0  130.0  144.0  152  165.0  178\n",
       "4  75.0  85.0  98.0  108  118.0  135.0  145.0  157  175.0  180\n",
       "5   NaN  88.0   NaN  113  125.0  140.0    NaN  160  189.0  185\n",
       "6   NaN   NaN   NaN  115    NaN    NaN    NaN  162    NaN  191"
      ]
     },
     "execution_count": 3,
     "metadata": {},
     "output_type": "execute_result"
    }
   ],
   "source": [
    "df = pd.DataFrame({\n",
    "    80: [55, 60, 65, 70, 75, np.nan, np.nan],\n",
    "    100: [65, 70, 74, 80, 85, 88, np.nan],\n",
    "    120: [79, 84, 90, 94, 98, np.nan, np.nan],\n",
    "    140: [80, 93, 95, 103, 108, 113, 115],\n",
    "    160: [102, 107, 110, 116, 118, 125, np.nan],\n",
    "    180: [110, 115, 120, 130, 135, 140, np.nan],\n",
    "    200: [120, 136, 140, 144, 145, np.nan, np.nan],\n",
    "    220: [135, 137, 140, 152, 157, 160, 162],\n",
    "    240: [137, 145, 155, 165, 175, 189, np.nan],\n",
    "    260: [150, 152, 175, 178, 180, 185, 191]\n",
    "})\n",
    "df"
   ]
  },
  {
   "cell_type": "code",
   "execution_count": 4,
   "id": "1190d55d-d922-4e2c-ac5b-22600a5999c6",
   "metadata": {},
   "outputs": [],
   "source": [
    "promedio = []\n",
    "\n",
    "for i in list(df):\n",
    "    promedio.append(df.describe()[i]['mean'])"
   ]
  },
  {
   "cell_type": "code",
   "execution_count": 28,
   "id": "a1383262-e027-480f-9756-a701b7e3a54b",
   "metadata": {},
   "outputs": [
    {
     "data": {
      "text/plain": [
       "(40.0, 220.0)"
      ]
     },
     "execution_count": 28,
     "metadata": {},
     "output_type": "execute_result"
    },
    {
     "data": {
      "image/png": "[encoded data removed]",
      "text/plain": [
       "<Figure size 1008x360 with 1 Axes>"
      ]
     },
     "metadata": {},
     "output_type": "display_data"
    }
   ],
   "source": [
    "fig, ax = plt.subplots(figsize=(14,5))\n",
    "\n",
    "plt.title('Distribución del gasto para varios niveles de ingreso.', size=16, color='white')\n",
    "plt.grid(visible=True, linewidth=0.1, color='white')\n",
    "fig.patch.set_facecolor('#21252b') \n",
    "ax.set_facecolor('#282c34') \n",
    "\n",
    "for i in list(df):\n",
    "    plt.scatter(x=[i for j in range(7)], y=df[i])\n",
    "\n",
    "plt.scatter(list(df), promedio, marker='x', s=100, color='white')\n",
    "plt.plot(list(df), promedio, color='white')\n",
    "\n",
    "plt.xlabel('Ingreso semanal', size=14, weight=700, color='white')\n",
    "plt.xticks(color='white', size=12)\n",
    "\n",
    "plt.ylabel('Consumo semanal', size=14, weight=700, color='white')\n",
    "plt.yticks(color='white', size=12)\n",
    "plt.ylim(40, 220)"
   ]
  },
  {
   "cell_type": "markdown",
   "id": "922bb874-72cb-48ca-9d1c-d8c12453e13e",
   "metadata": {},
   "source": [
    "El panorama general es que, a pesar de la variabilidad del consumo semanal en cada nivel de ingreso considerado, en promedio, el consumo semanal se incrementa a medida que aumenta el ingreso. \n",
    "\n",
    "En total hay 10 valores medios para las 10 subpoblaciones de Y. A estos valores medios se les llama **valores esperados condicionales**, en virtud de que dependen de los valores de la variable (condicional) X. En forma simbólica, se denotan con E(Y | X ), lo cual se lee como el valor esperado de Y, dado el valor de X.\n",
    "\n",
    "Al unir los valores medios condicionales de Y obtenemos nuestra linea de regresión poblacional.\n",
    "\n",
    "Aquí nos podemos dar cuenta del valor agregado que nos genera conocer la información del nivel de ingresos de los hogares. Será mucho más preciso calcular el gasto promedio con base a este que simplemente calcular el valor promedio general de la muestra."
   ]
  },
  {
   "cell_type": "code",
   "execution_count": 42,
   "id": "3a49f122-8185-40bd-a829-64bcb3933679",
   "metadata": {},
   "outputs": [
    {
     "data": {
      "text/plain": [
       "0    55.0\n",
       "1    60.0\n",
       "2    65.0\n",
       "3    70.0\n",
       "4    75.0\n",
       "Name: 80, dtype: float64"
      ]
     },
     "execution_count": 42,
     "metadata": {},
     "output_type": "execute_result"
    }
   ],
   "source": [
    "df[80].dropna()"
   ]
  },
  {
   "cell_type": "code",
   "execution_count": 115,
   "id": "72378299-8871-4e6f-9833-5b5fe173b1e0",
   "metadata": {},
   "outputs": [
    {
     "data": {
      "text/plain": [
       "[65.0, 77.0, 89.0, 101.0, 113.0, 125.0, 137.0, 149.0, 161.0, 173.0]"
      ]
     },
     "execution_count": 115,
     "metadata": {},
     "output_type": "execute_result"
    }
   ],
   "source": [
    "promedio"
   ]
  },
  {
   "cell_type": "code",
   "execution_count": 254,
   "id": "dc61efc9-23d8-4cfb-a631-f54bd9e39733",
   "metadata": {},
   "outputs": [
    {
     "data": {
      "image/png": "[encoded data removed]",
      "text/plain": [
       "<Figure size 864x360 with 1 Axes>"
      ]
     },
     "metadata": {},
     "output_type": "display_data"
    }
   ],
   "source": [
    "data = [df[i].dropna() for i in list(df)]\n",
    "\n",
    "fig, ax = plt.subplots(figsize=(12, 5))\n",
    "plt.title('Distribuciones de probabilidad para cada rango de ingreso', color='white', size= 13)\n",
    "fig.patch.set_facecolor('#21252b') \n",
    "ax.set_facecolor('#282c34') \n",
    "plt.grid(visible=True, linewidth=0.1, color='white')\n",
    "\n",
    "# fig.set_facecolor('red') \n",
    "\n",
    "plt.xlabel('Ingreso semanal', color='white', size=13)\n",
    "plt.ylabel('Consumo semanal', color='white', size=13)\n",
    "\n",
    "values=[1, 2, 3, 4, 5, 6, 7, 8, 9, 10]\n",
    "\n",
    "ax.tick_params(axis='x', which='both', colors='#21252b')\n",
    "ax.tick_params(axis='y', which='both', colors='#21252b')\n",
    "\n",
    "plt.xticks(color='white')\n",
    "plt.yticks(color='white')\n",
    "\n",
    "c='#3b5e3b'\n",
    "\n",
    "plt.boxplot(\n",
    "    data, \n",
    "    showmeans=True,\n",
    "    patch_artist=True,\n",
    "    boxprops=dict(color=c, linewidth=2, facecolor=(0.23, 0.36, 0.23, 0.3)),\n",
    "    capprops=dict(color=c, linewidth=2),\n",
    "    whiskerprops=dict(color=c, linewidth=2),\n",
    "    flierprops=dict(markeredgecolor='gray'),\n",
    "    medianprops=dict(color='white'),\n",
    "    meanprops=dict(markeredgecolor='white')\n",
    ")\n",
    "\n",
    "plt.plot(values, promedio, color='gray')\n",
    "\n",
    "plt.show()"
   ]
  },
  {
   "cell_type": "code",
   "execution_count": 120,
   "id": "2d8eee66-1460-4ea2-8f8e-309f735bc426",
   "metadata": {},
   "outputs": [
    {
     "data": {
      "text/plain": [
       "[80, 90, 100, 110, 120, 130, 140, 150, 160, 170]"
      ]
     },
     "execution_count": 120,
     "metadata": {},
     "output_type": "execute_result"
    }
   ],
   "source": [
    "values"
   ]
  },
  {
   "cell_type": "code",
   "execution_count": null,
   "id": "1dff2d24-c873-499a-975d-d4f2483ceb1e",
   "metadata": {},
   "outputs": [],
   "source": []
  }
 ],
 "metadata": {
  "kernelspec": {
   "display_name": "Python 3 (ipykernel)",
   "language": "python",
   "name": "python3"
  },
  "language_info": {
   "codemirror_mode": {
    "name": "ipython",
    "version": 3
   },
   "file_extension": ".py",
   "mimetype": "text/x-python",
   "name": "python",
   "nbconvert_exporter": "python",
   "pygments_lexer": "ipython3",
   "version": "3.8.12"
  },
  "toc-autonumbering": false,
  "toc-showcode": false,
  "toc-showmarkdowntxt": false
 },
 "nbformat": 4,
 "nbformat_minor": 5
}
