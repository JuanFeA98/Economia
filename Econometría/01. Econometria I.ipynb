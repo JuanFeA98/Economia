{
 "cells": [
  {
   "cell_type": "markdown",
   "id": "e5436af9-0ee3-4279-88e4-9f7cef0357eb",
   "metadata": {},
   "source": [
    "<h1\n",
    "    style='text-align:center;font-weight: bolder;'\n",
    "    >\n",
    "    Econometría.\n",
    "</h1>\n",
    "<p\n",
    "   style='text-align:center;margin-top:-20px;margin-left:-35px;font-weight: bolder'\n",
    "   > Gujarati - Porter\n",
    "</p>"
   ]
  },
  {
   "cell_type": "markdown",
   "id": "4e0a4256-0758-452a-a546-ff75cddd1388",
   "metadata": {},
   "source": [
    "**Econometría** : Medición económica."
   ]
  },
  {
   "cell_type": "markdown",
   "id": "c77e6ec5-c913-4278-90c1-716f2c87b22b",
   "metadata": {},
   "source": [
    "<i style='text-align:justify;'>\n",
    "\"La econometría puede definirse como el análisis cuantitativo de fenómenos económicos reales,\n",
    "basados en el desarrollo simultáneo de la teoría y la observación, relacionados mediante métodos\n",
    "apropiados de inferencia.\"\n",
    "</i>\n",
    "<br/><br/>\n",
    "<i style='text-align: justify;'>\n",
    "\"La econometría se defi ne como la ciencia social en la cual las herramientas de la teoría económica,\n",
    "las matemáticas y la inferencia estadística se aplican al análisis de los fenómenos económicos.\"\n",
    "</i>"
   ]
  },
  {
   "cell_type": "markdown",
   "id": "11db0531-6bcb-48aa-870e-ef1b10c9c896",
   "metadata": {},
   "source": [
    "**Econometría** = Teoría económica **+** Economía matemática **+** Estadística económica y matemática"
   ]
  },
  {
   "cell_type": "markdown",
   "id": "690791f8-193d-49e0-a3b0-3d008d8f1d93",
   "metadata": {},
   "source": [
    "## Metodología clásica."
   ]
  },
  {
   "cell_type": "markdown",
   "id": "d351e0e7-ef22-457a-8069-e5141e4ecf70",
   "metadata": {},
   "source": [
    "<ol>\n",
    "    <li>Planteamiento de la teoría o hipótesis.</li>\n",
    "    <li>Especificación del modelo matemático de la teoría.</li>\n",
    "    <li>Especificación del modelo econométrico o estadístico de la teoría.</li>\n",
    "    <li>Obtención de datos.</li>\n",
    "    <li>Estimación de los parámetros del modelo econométrico.</li>\n",
    "    <li>Pruebas de hipótesis.</li>\n",
    "    <li>Pronóstico o predicción.</li>\n",
    "    <li>Utilización del modelo.</li>\n",
    "</ol>"
   ]
  },
  {
   "cell_type": "markdown",
   "id": "9b056892-cc81-45fa-8df1-f954f7f5cc52",
   "metadata": {},
   "source": [
    "## **1. Modelos de Regresión uniecuacionales.**"
   ]
  },
  {
   "cell_type": "markdown",
   "id": "a42c88fa-bb84-4881-b296-a46ecc71c84a",
   "metadata": {},
   "source": [
    "### I. Naturaleza del análisis de regresión."
   ]
  },
  {
   "cell_type": "code",
   "execution_count": null,
   "id": "cce9d82f-7fa6-4003-8166-78746762ce16",
   "metadata": {},
   "outputs": [],
   "source": []
  },
  {
   "cell_type": "code",
   "execution_count": null,
   "id": "d227a9fe-09ff-4cbd-ae35-81c06b21735d",
   "metadata": {},
   "outputs": [],
   "source": []
  },
  {
   "cell_type": "code",
   "execution_count": null,
   "id": "791fe313-78b7-4316-9dd4-60aaf0661fe1",
   "metadata": {},
   "outputs": [],
   "source": []
  },
  {
   "cell_type": "code",
   "execution_count": null,
   "id": "dc61efc9-23d8-4cfb-a631-f54bd9e39733",
   "metadata": {},
   "outputs": [],
   "source": []
  },
  {
   "cell_type": "code",
   "execution_count": null,
   "id": "2d8eee66-1460-4ea2-8f8e-309f735bc426",
   "metadata": {},
   "outputs": [],
   "source": []
  },
  {
   "cell_type": "code",
   "execution_count": null,
   "id": "1dff2d24-c873-499a-975d-d4f2483ceb1e",
   "metadata": {},
   "outputs": [],
   "source": []
  }
 ],
 "metadata": {
  "kernelspec": {
   "display_name": "Python 3 (ipykernel)",
   "language": "python",
   "name": "python3"
  },
  "language_info": {
   "codemirror_mode": {
    "name": "ipython",
    "version": 3
   },
   "file_extension": ".py",
   "mimetype": "text/x-python",
   "name": "python",
   "nbconvert_exporter": "python",
   "pygments_lexer": "ipython3",
   "version": "3.8.12"
  }
 },
 "nbformat": 4,
 "nbformat_minor": 5
}
