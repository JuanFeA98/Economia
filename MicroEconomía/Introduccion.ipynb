{
 "cells": [
  {
   "cell_type": "markdown",
   "id": "d1e2b006",
   "metadata": {},
   "source": [
    "# Economía"
   ]
  },
  {
   "cell_type": "markdown",
   "id": "82dfce76",
   "metadata": {},
   "source": [
    "*La economía es un estudio de la humanidad en los negocios ordinarios de la vida.*  - **Alfred Marshall**"
   ]
  },
  {
   "cell_type": "markdown",
   "id": "f35bd750",
   "metadata": {},
   "source": [
    "<ul>\n",
    "    <li>Estudiar economía ayuda a entender el mundo en el que vivimos</li>\n",
    "    <li>Proporciona herramientas que permiten entender el mundo desde otra óptica y tomar mejores decisiones</li>\n",
    "    <li>Nos dará un mejor entendimiento sobre el potencial y los limites de la política económica</li>\n",
    "</ul>   "
   ]
  },
  {
   "cell_type": "markdown",
   "id": "77de4569",
   "metadata": {},
   "source": [
    "## Parte 1. Introducción"
   ]
  },
  {
   "cell_type": "markdown",
   "id": "2e1937e6",
   "metadata": {},
   "source": [
    "### Los 10 principios de la economía"
   ]
  },
  {
   "cell_type": "markdown",
   "id": "f55804b7",
   "metadata": {},
   "source": [
    "<p>\n",
    "    Etimologicamente hablando, <strong>economía</strong> significa administración del hogar. Esta definición se refiere a los \n",
    "    parelismos que existen entre una sociedad y una vivienda. Para empezar contamos con individuos que tienen habilidades \n",
    "    especificas y contamos con recursos que son escasos, es decir, son limitados.\n",
    "</p>\n",
    "\n",
    "<p>\n",
    "    La interacción de estos dos factores lleva a la toma de decisiones que busquen alcanzar el mayor nivel de bienestar ya sea \n",
    "    para la vivienda o para la sociedad. Por lo tanto, la <strong>economía</strong> es el estudio de como los individuos \n",
    "    administran de manera óptima recursos escasos.\n",
    "</p>\n",
    "\n",
    "*La economía es solamente un grupo de personas interactuando en su vida cotidiana.*"
   ]
  },
  {
   "cell_type": "markdown",
   "id": "f3c47be0",
   "metadata": {},
   "source": [
    "### Decisiones de los individuos"
   ]
  },
  {
   "cell_type": "markdown",
   "id": "cd7744b0",
   "metadata": {},
   "source": [
    "<h4>Principio I. Las personas enfrentan disyuntivas.</h4>\n",
    "<p>\n",
    "    Siempre que una persona decida hacer algo o gastar sus recursos en algo en particular, automáticamente esta renunciando a \n",
    "    otra cosa.\n",
    "</p>"
   ]
  },
  {
   "cell_type": "markdown",
   "id": "79221f80",
   "metadata": {},
   "source": [
    "<h4>Principio II. El precio de una cosa es aquello a lo que se renuncia para obtenerla.</h4>\n",
    "<p>\n",
    "    Dado que siempre que se elige una cosa se renuncia a otra, el costo de no elegir esta segunda cosa, <strong><i>costo de \n",
    "    oportunidad</i></strong>, sera el verdadero precio que estamos pagando por la cosa que elegimos.\n",
    "</p>"
   ]
  },
  {
   "cell_type": "markdown",
   "id": "2cb9b1fa",
   "metadata": {},
   "source": [
    "<h4>Principio III. Las personas racionales piensan en terminos marginales.</h4>\n",
    "<p>\n",
    "    Los individuos son <strong><i>racionales</i></strong>, esto quiere decir que tomarán sus decisiones de manera que estas les \n",
    "    generen el mayor bienestar posible. Siguiendo este razonamiento, las decisiones deben tomarse bajo una \n",
    "</p>"
   ]
  },
  {
   "cell_type": "code",
   "execution_count": null,
   "id": "c23aac6e",
   "metadata": {},
   "outputs": [],
   "source": []
  },
  {
   "cell_type": "code",
   "execution_count": null,
   "id": "4d099970",
   "metadata": {},
   "outputs": [],
   "source": []
  },
  {
   "cell_type": "code",
   "execution_count": null,
   "id": "9a22ea05",
   "metadata": {},
   "outputs": [],
   "source": []
  }
 ],
 "metadata": {
  "kernelspec": {
   "display_name": "Python 3 (ipykernel)",
   "language": "python",
   "name": "python3"
  },
  "language_info": {
   "codemirror_mode": {
    "name": "ipython",
    "version": 3
   },
   "file_extension": ".py",
   "mimetype": "text/x-python",
   "name": "python",
   "nbconvert_exporter": "python",
   "pygments_lexer": "ipython3",
   "version": "3.9.7"
  }
 },
 "nbformat": 4,
 "nbformat_minor": 5
}
