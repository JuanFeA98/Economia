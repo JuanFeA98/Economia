{
 "cells": [
  {
   "cell_type": "markdown",
   "id": "318676db",
   "metadata": {},
   "source": [
    "# Economía"
   ]
  },
  {
   "cell_type": "markdown",
   "id": "ead6ae40",
   "metadata": {},
   "source": [
    "*La economía es un estudio de la humanidad en los negocios ordinarios de la vida.*  - **Alfred Marshall**"
   ]
  },
  {
   "cell_type": "markdown",
   "id": "2fb208de",
   "metadata": {},
   "source": [
    "<ul>\n",
    "    <li>Estudiar economía ayuda a entender el mundo en el que vivimos</li>\n",
    "    <li>Proporciona herramientas que permiten entender el mundo desde otra óptica y tomar mejores decisiones</li>\n",
    "    <li>Nos dá un mejor entendimiento sobre el potencial y los limites de la política económica</li>\n",
    "</ul>   "
   ]
  },
  {
   "cell_type": "markdown",
   "id": "cf560cde",
   "metadata": {},
   "source": [
    "## Parte 1. Introducción"
   ]
  },
  {
   "cell_type": "markdown",
   "id": "2506ae19",
   "metadata": {},
   "source": [
    "### Los 10 principios de la economía"
   ]
  },
  {
   "cell_type": "markdown",
   "id": "8f2db4a2",
   "metadata": {},
   "source": [
    "<p>\n",
    "    Etimologicamente hablando, <strong>economía</strong> significa administración del hogar. Esta definición se refiere a los \n",
    "    parelismos que existen entre una sociedad y una vivienda. Para empezar contamos con individuos que tienen habilidades \n",
    "    especificas y contamos con recursos que son escasos, es decir, son limitados. La interacción de estos dos factores lleva a\n",
    "    la toma de decisiones que busquen alcanzar el mayor nivel de bienestar ya sea para la vivienda o para la sociedad. Por lo \n",
    "    tanto, la <strong>economía</strong> es el estudio de como los individuos administran de manera óptima recursos escasos.\n",
    "</p>\n",
    "\n",
    "*La economía es solamente un grupo de personas interactuando en su vida cotidiana.*"
   ]
  },
  {
   "cell_type": "markdown",
   "id": "71365a2f",
   "metadata": {},
   "source": [
    "### Decisiones de los individuos"
   ]
  },
  {
   "cell_type": "markdown",
   "id": "ba995d6d",
   "metadata": {},
   "source": [
    "<h4>Principio I. Las personas enfrentan disyuntivas.</h4>\n",
    "<p>\n",
    "    Siempre que una persona decida hacer algo o gastar sus recursos en algo en particular, automáticamente esta renunciando a \n",
    "    otra cosa.\n",
    "</p>"
   ]
  },
  {
   "cell_type": "markdown",
   "id": "5a821186",
   "metadata": {},
   "source": [
    "<h4>Principio II. El precio de una cosa es aquello a lo que se renuncia para obtenerla.</h4>\n",
    "<p>\n",
    "    Dado que siempre que se elige una cosa se renuncia a otra, el costo de no elegir esta segunda cosa, <strong><i>costo de \n",
    "    oportunidad</i></strong>, sera el verdadero precio que estamos pagando por la cosa que elegimos.\n",
    "</p>"
   ]
  },
  {
   "cell_type": "markdown",
   "id": "0ba522f5",
   "metadata": {},
   "source": [
    "<h4>Principio III. Las personas racionales piensan en terminos marginales.</h4>\n",
    "<p>\n",
    "    Los individuos son <strong><i>racionales</i></strong>, esto quiere decir que tomarán sus decisiones de manera que estas les \n",
    "    generen el mayor bienestar posible. Siguiendo este razonamiento, las decisiones deben tomarse bajo la óptica del <strong>\n",
    "    <i>cambio marginal</i></strong> que permite hacer juicios de valor de una manera relativa y por consiguiente más ajustados \n",
    "    a la realidad.\n",
    "</p>"
   ]
  },
  {
   "cell_type": "markdown",
   "id": "6af671e7",
   "metadata": {},
   "source": [
    "<h4>Principio IV. Las personas responden a los incentivos.</h4>\n",
    "<p>\n",
    "    Siempre que un individuo tome una decisión estará pensando en los <strong><i>costos</i></strong> y los <strong>\n",
    "    <i>beneficios</i></strong> que dicha decisión le darán. Estos incentivos, positivos y negativos, van a causar distintos \n",
    "    efectos directos e indirectos dentro para el individuo. \n",
    "</p>"
   ]
  },
  {
   "cell_type": "markdown",
   "id": "045c3019",
   "metadata": {},
   "source": [
    "### Interacción de los individuos"
   ]
  },
  {
   "cell_type": "markdown",
   "id": "ce2b1fbb",
   "metadata": {},
   "source": [
    "<h4>Principio V. El comercio puede mejorar el bienestar de todos</h4>\n",
    "<p>\n",
    "    Siempre que un individuo tome una decisión estará pensando en los <strong><i>costos</i></strong> y los <strong>\n",
    "    <i>beneficios</i></strong> que dicha decisión le darán. Estos incentivos, positivos y negativos, van a causar distintos \n",
    "    efectos directos e indirectos dentro para el individuo. \n",
    "</p>"
   ]
  },
  {
   "cell_type": "markdown",
   "id": "b8504d09",
   "metadata": {},
   "source": [
    "https://clea.edu.mx/biblioteca/files/original/bd2711c3969d92b67fcf71d844bcbaed.pdf\n",
    "pp 38"
   ]
  },
  {
   "cell_type": "code",
   "execution_count": null,
   "id": "5bd8144f",
   "metadata": {},
   "outputs": [],
   "source": []
  },
  {
   "cell_type": "code",
   "execution_count": null,
   "id": "3ade5c2e",
   "metadata": {},
   "outputs": [],
   "source": []
  }
 ],
 "metadata": {
  "kernelspec": {
   "display_name": "Python 3 (ipykernel)",
   "language": "python",
   "name": "python3"
  },
  "language_info": {
   "codemirror_mode": {
    "name": "ipython",
    "version": 3
   },
   "file_extension": ".py",
   "mimetype": "text/x-python",
   "name": "python",
   "nbconvert_exporter": "python",
   "pygments_lexer": "ipython3",
   "version": "3.8.12"
  }
 },
 "nbformat": 4,
 "nbformat_minor": 5
}
